{
 "cells": [
  {
   "cell_type": "code",
   "execution_count": 4,
   "id": "f98aa4c0",
   "metadata": {},
   "outputs": [],
   "source": [
    "import pandas as pd\n",
    "import numpy as np\n",
    "from matplotlib import pyplot as plt\n",
    "from sklearn.model_selection import train_test_split\n",
    "import tensorflow as tf"
   ]
  },
  {
   "cell_type": "code",
   "execution_count": 7,
   "id": "645497ea",
   "metadata": {},
   "outputs": [],
   "source": [
    "data=pd.read_csv('handwritten_data_785.csv')"
   ]
  },
  {
   "cell_type": "code",
   "execution_count": 8,
   "id": "67b99c78",
   "metadata": {},
   "outputs": [],
   "source": [
    "data1=np.array(data)\n",
    "img=np.array(data1[0,1:])"
   ]
  },
  {
   "cell_type": "code",
   "execution_count": 9,
   "id": "a61b0ef4",
   "metadata": {},
   "outputs": [
    {
     "name": "stdout",
     "output_type": "stream",
     "text": [
      "[  0   0   0   0   0   0   0   0   0   0   0   0   0   0   0   0   0   0\n",
      "   0   0   0   0   0   0   0   0   0   0   0   0   0   0   0   0   0   0\n",
      "   0   0   0   0   0   0   0   0   0   0   0   0   0   0   0   0   0   0\n",
      "   0   0   0   0   0   0   0   0   0   0   0   0   0   0   0   0   0   0\n",
      "   0   0   0   0   0   0   0   0   0   0   0   0   0   0   0   0   0   0\n",
      "   0   0   0   0   0   0   0   0   0   0   0   0   0   0   0   0   0   0\n",
      "   0   0   0   0   0   0   0   0   0   0   0   0   0   0   0  20 136 210\n",
      " 167  20   0   0   0   0   0   0   0   0   0   0   0   0   0   0   0   0\n",
      "   0   0   0   0   0   0   2 122 250 254 231  73   0   0   0   0   0   0\n",
      "   0   0   0   0   0   0   0   0   0   0   0   0   0   0   0   2  86 232\n",
      " 202 150 253 146  10   0   0   0   0   0   0   0   0   0   0   0   0   0\n",
      "   0   0   0   0   0   0   0  35 197 234  75  21 233 225  35   0   0   0\n",
      "   0   0   0   0   0   0   0   0   0   0   0   0   0   0   0   0   0  99\n",
      " 249 169   6   0 163 254  90   0   0   0   0   0   0   0   0   0   0   0\n",
      "   0   0   0   0   0   0   0   0   6 217 241  54   0   0  79 247 173   2\n",
      "   0   0   0   0   0   0   0   0   0   0   0   0   0   0   0   0   0   0\n",
      "  53 253 183  18   0   0  43 210 223  32   0   0   0   0   0   0   0   0\n",
      "   0   0   0   0   0   0   0   0   0   2 138 249 114   3   0   0   9 150\n",
      " 242 107   2   0   0   0   0   0   0   0   0   0   0   0   0   0   0   0\n",
      "   0  25 197 221  59   0   0   0   0  67 232 203  49   0   0   0   0   0\n",
      "   0   0   0   0   0   0   0   0   0   0   0  70 229 189  17   0   0   0\n",
      "   0   8 132 251 186   6   0   0   0   0   0   0   0   0   0   0   0   0\n",
      "   0   0   5 126 254 116   0   0   0   0   0   0  13 154 250 138   6   0\n",
      "   0   0   0   0   0   0   0   0   0   0   0   0  17 176 255  70   0   0\n",
      "   0   0   0   0   1  60 220 224 123  22   0   0   0   0   0   0   0   0\n",
      "   0   0   0   0  33 235 255 221 177 138 114 134 146 172 197 217 247 254\n",
      " 233  51   0   0   0   0   0   0   0   0   0   0   0   0  64 255 212 170\n",
      " 198 219 228 227 210 200 180 169 155 255 187  19   0   0   0   0   0   0\n",
      "   0   0   0   0   0   0 112 255 130  16  35  49  55  54  43  36  23  16\n",
      "  10 222 242  68   0   0   0   0   0   0   0   0   0   0   0   0 171 248\n",
      "  78   0   0   0   0   0   0   0   0   0   0  76 230 220  49   1   0   0\n",
      "   0   0   0   0   0   0   0  15 215 221  50   0   0   0   0   0   0   0\n",
      "   0   0   0  10 119 242 167  21   0   0   0   0   0   0   0   0  36 128\n",
      " 240 173  22   0   0   0   0   0   0   0   0   0   0   0  12 198 239  75\n",
      "   0   0   0   0   0   0   0   0 192 255 211  63   0   0   0   0   0   0\n",
      "   0   0   0   0   0   0   0  98 255 173   0   0   0   0   0   0   0   0\n",
      " 108 111  53   1   0   0   0   0   0   0   0   0   0   0   0   0   0  47\n",
      " 235 162   0   0   0   0   0   0   0   0   0   0   0   0   0   0   0   0\n",
      "   0   0   0   0   0   0   0   0   0   0   0   0   0   0   0   0   0   0\n",
      "   0   0   0   0   0   0   0   0   0   0   0   0   0   0   0   0   0   0\n",
      "   0   0   0   0   0   0   0   0   0   0   0   0   0   0   0   0   0   0\n",
      "   0   0   0   0   0   0   0   0   0   0   0   0   0   0   0   0   0   0\n",
      "   0   0   0   0   0   0   0   0   0   0   0   0   0   0   0   0   0   0\n",
      "   0   0   0   0   0   0   0   0   0   0]\n"
     ]
    }
   ],
   "source": [
    "print(img)"
   ]
  },
  {
   "cell_type": "code",
   "execution_count": 10,
   "id": "df3a30c3",
   "metadata": {},
   "outputs": [],
   "source": [
    "img=np.reshape(img,(28,28))"
   ]
  },
  {
   "cell_type": "code",
   "execution_count": 11,
   "id": "fe2da011",
   "metadata": {},
   "outputs": [
    {
     "data": {
      "image/png": "[encoded data removed]",
      "text/plain": [
       "<Figure size 432x288 with 1 Axes>"
      ]
     },
     "metadata": {
      "needs_background": "light"
     },
     "output_type": "display_data"
    }
   ],
   "source": [
    "plt.imshow(img)\n",
    "plt.show()"
   ]
  },
  {
   "cell_type": "code",
   "execution_count": 12,
   "id": "061e4826",
   "metadata": {},
   "outputs": [],
   "source": [
    "from tensorflow import keras\n",
    "num_classes=26\n",
    "img_size=28\n",
    "num_images=data.shape[0]\n",
    "def prepare(raw):\n",
    "  y= raw[:,0]\n",
    "  out_y=keras.utils.to_categorical(y, num_classes)\n",
    "\n",
    "  X=raw[:,1:]\n",
    "  out_x=np.reshape(X,(num_images,img_size,img_size,1))\n",
    "  out_x=out_x/255\n",
    "\n",
    "  return out_x, out_y"
   ]
  },
  {
   "cell_type": "code",
   "execution_count": 13,
   "id": "c76b04be",
   "metadata": {},
   "outputs": [],
   "source": [
    "X, y= prepare(data1)"
   ]
  },
  {
   "cell_type": "code",
   "execution_count": 14,
   "id": "0cb6c886",
   "metadata": {},
   "outputs": [],
   "source": [
    "X_train, X_test, y_train, y_test = train_test_split(X, y, test_size=0.3, random_state=42)"
   ]
  },
  {
   "cell_type": "code",
   "execution_count": 19,
   "id": "726957b7",
   "metadata": {},
   "outputs": [
    {
     "name": "stdout",
     "output_type": "stream",
     "text": [
      "Epoch 1/3\n",
      "1654/1654 [==============================] - 602s 364ms/step - loss: 0.1931 - accuracy: 0.9473 - val_loss: 0.0957 - val_accuracy: 0.9738\n",
      "Epoch 2/3\n",
      "1654/1654 [==============================] - 615s 372ms/step - loss: 0.0689 - accuracy: 0.9811 - val_loss: 0.0724 - val_accuracy: 0.9818\n",
      "Epoch 3/3\n",
      "1654/1654 [==============================] - 612s 370ms/step - loss: 0.0521 - accuracy: 0.9854 - val_loss: 0.0562 - val_accuracy: 0.9850\n"
     ]
    },
    {
     "data": {
      "text/plain": [
       "<tensorflow.python.keras.callbacks.History at 0x2a1eb45a100>"
      ]
     },
     "execution_count": 19,
     "metadata": {},
     "output_type": "execute_result"
    }
   ],
   "source": [
    "from tensorflow.python.keras.models import Sequential\n",
    "from tensorflow.python.keras.layers import Conv2D, Dense, Flatten, Dropout, MaxPooling2D\n",
    "\n",
    "char_recog= Sequential()\n",
    "char_recog.add(Conv2D(64, kernel_size=(5,5), activation='relu', input_shape=(img_size,img_size,1)))\n",
    "char_recog.add(Conv2D(64, kernel_size=(5,5), activation='relu'))\n",
    "char_recog.add(MaxPooling2D(pool_size = (2, 2)))\n",
    "char_recog.add(Conv2D(64, kernel_size=(3,3), activation='relu'))\n",
    "char_recog.add(Conv2D(64, kernel_size=(3,3), activation='relu'))\n",
    "char_recog.add(Flatten())\n",
    "char_recog.add(Dense(100, activation='relu'))\n",
    "char_recog.add(Dense(num_classes,activation='softmax'))\n",
    "\n",
    "#Compiling the model\n",
    "\n",
    "char_recog.compile(loss=keras.losses.categorical_crossentropy, optimizer='adam', metrics=['accuracy'])\n",
    "\n",
    "#fit the model\n",
    "\n",
    "char_recog.fit(X_train,y_train, batch_size=126, epochs=3, validation_split=0.2)"
   ]
  },
  {
   "cell_type": "code",
   "execution_count": 20,
   "id": "d7fc6e97",
   "metadata": {},
   "outputs": [
    {
     "name": "stdout",
     "output_type": "stream",
     "text": [
      "3488/3488 [==============================] - 80s 23ms/step - loss: 0.0581 - accuracy: 0.9842\n"
     ]
    }
   ],
   "source": [
    "test_scores = char_recog.evaluate(X_test,y_test)"
   ]
  },
  {
   "cell_type": "code",
   "execution_count": 21,
   "id": "47955d17",
   "metadata": {},
   "outputs": [
    {
     "name": "stdout",
     "output_type": "stream",
     "text": [
      "Accuracy of the model: 0.9842400550842285\n"
     ]
    }
   ],
   "source": [
    "print(\"Accuracy of the model:\", test_scores[1])"
   ]
  }
 ],
 "metadata": {
  "kernelspec": {
   "display_name": "Python 3",
   "language": "python",
   "name": "python3"
  },
  "language_info": {
   "codemirror_mode": {
    "name": "ipython",
    "version": 3
   },
   "file_extension": ".py",
   "mimetype": "text/x-python",
   "name": "python",
   "nbconvert_exporter": "python",
   "pygments_lexer": "ipython3",
   "version": "3.8.8"
  }
 },
 "nbformat": 4,
 "nbformat_minor": 5
}
